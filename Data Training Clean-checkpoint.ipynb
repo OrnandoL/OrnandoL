{
 "cells": [
  {
   "cell_type": "code",
   "execution_count": 1,
   "id": "0205b8f3",
   "metadata": {},
   "outputs": [],
   "source": [
    "import pandas as pd"
   ]
  },
  {
   "cell_type": "code",
   "execution_count": 2,
   "id": "a266b82f",
   "metadata": {},
   "outputs": [
    {
     "name": "stdout",
     "output_type": "stream",
     "text": [
      "Files in 'C:\\\\Users\\\\USER\\\\Jupyter Stuff': ['.ipynb_checkpoints', '201701.xlsx', '201702.xlsx', '201703.xlsx', '201704.xlsx', '201705.xlsx', '201706.xlsx', '201707.xlsx', '201708.xlsx', '201709.xlsx', '201710.xlsx', '201711.xlsx', '201712.xlsx', '201801.xlsx', '201802.xlsx', '201803.xlsx', '201804.xlsx', '201805.xlsx', '201806.xlsx', '201807.xlsx', '201808.xlsx', '201809.xlsx', '201810.xlsx', '201811.xlsx', '201812.xlsx', '201901.xlsx', '201902.xlsx', '201903.xlsx', '201904.xlsx', '201905.xlsx', '201906.xlsx', '201907.xlsx', '201908.xlsx', '201909.xlsx', '201910.xlsx', '201911.xlsx', '201912.xlsx', '202001.xlsx', '202002.xlsx', '202003.xlsx', '202004.xlsx', '202005.xlsx', '202006.xlsx', '202007.xlsx', '202008.xlsx', '202009.xlsx', '202010.xlsx', '202011.xlsx', '202012.xlsx', '202101.xlsx', '202102.xlsx', '202103.xlsx', '202104.xlsx', '202105.xlsx', '202106.xlsx', '202107.xlsx', '202108.xlsx', '202109.xlsx', '202110.xlsx', '202111.xlsx', '202112.xlsx', '202201.xlsx', '202202.xlsx', '202203.xlsx', '202204.xlsx', '202205.xlsx', '202206.xlsx', '202207.xlsx', '202208.xlsx', '202209.xlsx', '202210.xlsx', '5 Digit Nosin Motor.xlsx', 'CDB_2021_1.ipynb', 'clean_all.csv', 'clean_buy_2017.xlsx', 'clean_buy_2018.xlsx', 'clean_buy_2019.xlsx', 'clean_buy_2020.xlsx', 'clean_buy_2021.xlsx', 'clean_buy_2022.xlsx', 'concat_2017.csv', 'concat_2017.xlsx', 'concat_2018.csv', 'concat_2018.xlsx', 'concat_2019.csv', 'concat_2019.xlsx', 'concat_2020.csv', 'concat_2020.xlsx', 'concat_2021.csv', 'concat_2021.xlsx', 'concat_2022.csv', 'concat_2022.xlsx', 'concat_all.csv', 'concat_all_courrpt.xlsx', 'count_all.csv', 'count_buy_2017.xlsx', 'count_buy_2018.xlsx', 'count_buy_2019.xlsx', 'count_buy_2020.xlsx', 'count_buy_2021.xlsx', 'count_buy_2022.xlsx', 'CSV Predictive.ipynb', 'Data Train Predictive.ipynb', 'data_training.csv', 'data_train_clean.csv', 'data_train_clean_count.csv', 'drop_buy_2017.xlsx', 'drop_buy_2018.xlsx', 'drop_buy_2019.xlsx', 'drop_buy_2020.xlsx', 'drop_buy_2021.xlsx', 'drop_buy_2022.xlsx', 'Excel Predictive.ipynb', 'Format Update Price List _J10_November 22 (DAM).xlsx', 'Kode Type 2022.xlsx', 'Lookup Motor.xlsx', 'Lookup Tipe Motor.xls', 'Lookup Tipe Motor.xlsx', 'OTR BANDUNG 2017 - Okt 2022.xlsx', 'Predictive Analytics', 'Price Motor.xlsx', 'test_unique.xlsx', 'Untitled.ipynb', 'Untitled1.ipynb', '~$Lookup Tipe Motor.xlsx', '~$OTR BANDUNG 2017 - Okt 2022.xlsx']\n"
     ]
    }
   ],
   "source": [
    "import os\n",
    "\n",
    "cwd = os.getcwd()  # Get the current working directory (cwd)\n",
    "files = os.listdir(cwd)  # Get all the files in that directory\n",
    "print(\"Files in %r: %s\" % (cwd, files))"
   ]
  },
  {
   "cell_type": "code",
   "execution_count": 4,
   "id": "f9224a1b",
   "metadata": {},
   "outputs": [
    {
     "name": "stderr",
     "output_type": "stream",
     "text": [
      "C:\\Users\\USER\\anaconda3\\lib\\site-packages\\IPython\\core\\interactiveshell.py:3165: DtypeWarning: Columns (2,6,43,45,52,53,55) have mixed types.Specify dtype option on import or set low_memory=False.\n",
      "  has_raised = await self.run_ast_nodes(code_ast.body, cell_name,\n",
      "C:\\Users\\USER\\anaconda3\\lib\\site-packages\\IPython\\core\\interactiveshell.py:3165: DtypeWarning: Columns (42,44) have mixed types.Specify dtype option on import or set low_memory=False.\n",
      "  has_raised = await self.run_ast_nodes(code_ast.body, cell_name,\n",
      "C:\\Users\\USER\\anaconda3\\lib\\site-packages\\IPython\\core\\interactiveshell.py:3165: DtypeWarning: Columns (42) have mixed types.Specify dtype option on import or set low_memory=False.\n",
      "  has_raised = await self.run_ast_nodes(code_ast.body, cell_name,\n",
      "C:\\Users\\USER\\anaconda3\\lib\\site-packages\\IPython\\core\\interactiveshell.py:3165: DtypeWarning: Columns (5,42) have mixed types.Specify dtype option on import or set low_memory=False.\n",
      "  has_raised = await self.run_ast_nodes(code_ast.body, cell_name,\n",
      "C:\\Users\\USER\\anaconda3\\lib\\site-packages\\IPython\\core\\interactiveshell.py:3165: DtypeWarning: Columns (13,42,44) have mixed types.Specify dtype option on import or set low_memory=False.\n",
      "  has_raised = await self.run_ast_nodes(code_ast.body, cell_name,\n"
     ]
    }
   ],
   "source": [
    "concat_2017 = pd.read_csv('concat_2017.csv')\n",
    "concat_2018 = pd.read_csv('concat_2018.csv')\n",
    "concat_2019 = pd.read_csv('concat_2019.csv')\n",
    "concat_2020 = pd.read_csv('concat_2020.csv')\n",
    "concat_2021 = pd.read_csv('concat_2021.csv')\n",
    "concat_2022 = pd.read_csv('concat_2022.csv')"
   ]
  },
  {
   "cell_type": "code",
   "execution_count": null,
   "id": "f2ed2faa",
   "metadata": {},
   "outputs": [],
   "source": []
  }
 ],
 "metadata": {
  "kernelspec": {
   "display_name": "Python 3",
   "language": "python",
   "name": "python3"
  },
  "language_info": {
   "codemirror_mode": {
    "name": "ipython",
    "version": 3
   },
   "file_extension": ".py",
   "mimetype": "text/x-python",
   "name": "python",
   "nbconvert_exporter": "python",
   "pygments_lexer": "ipython3",
   "version": "3.8.8"
  }
 },
 "nbformat": 4,
 "nbformat_minor": 5
}
