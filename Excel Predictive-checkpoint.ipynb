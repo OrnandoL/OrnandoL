{
 "cells": [
  {
   "cell_type": "markdown",
   "id": "f0c0ffd0",
   "metadata": {},
   "source": [
    "# Import Libraries"
   ]
  },
  {
   "cell_type": "code",
   "execution_count": 1,
   "id": "5c5deab1",
   "metadata": {},
   "outputs": [
    {
     "name": "stdout",
     "output_type": "stream",
     "text": [
      "Files in 'C:\\\\Users\\\\USER\\\\Jupyter Stuff': ['.ipynb_checkpoints', '201701.xlsx', '201702.xlsx', '201703.xlsx', '201704.xlsx', '201705.xlsx', '201706.xlsx', '201707.xlsx', '201708.xlsx', '201709.xlsx', '201710.xlsx', '201711.xlsx', '201712.xlsx', '201801.xlsx', '201802.xlsx', '201803.xlsx', '201804.xlsx', '201805.xlsx', '201806.xlsx', '201807.xlsx', '201808.xlsx', '201809.xlsx', '201810.xlsx', '201811.xlsx', '201812.xlsx', '201901.xlsx', '201902.xlsx', '201903.xlsx', '201904.xlsx', '201905.xlsx', '201906.xlsx', '201907.xlsx', '201908.xlsx', '201909.xlsx', '201910.xlsx', '201911.xlsx', '201912.xlsx', '202001.xlsx', '202002.xlsx', '202003.xlsx', '202004.xlsx', '202005.xlsx', '202006.xlsx', '202007.xlsx', '202008.xlsx', '202009.xlsx', '202010.xlsx', '202011.xlsx', '202012.xlsx', '202101.xlsx', '202102.xlsx', '202103.xlsx', '202104.xlsx', '202105.xlsx', '202106.xlsx', '202107.xlsx', '202108.xlsx', '202109.xlsx', '202110.xlsx', '202111.xlsx', '202112.xlsx', '202201.xlsx', '202202.xlsx', '202203.xlsx', '202204.xlsx', '202205.xlsx', '202206.xlsx', '202207.xlsx', '202209.xlsx', '202210.xlsx', 'CDB_2021_1.ipynb', 'concat_2017.xlsx', 'concat_2018.xlsx', 'concat_2019.xlsx', 'concat_2020.xlsx', 'concat_2021.xlsx', 'count_buy_2018.xlsx', 'count_buy_2019.xlsx', 'count_buy_2020.xlsx', 'count_buy_2021.xlsx', 'Predictive Analytics', 'Untitled.ipynb']\n"
     ]
    }
   ],
   "source": [
    "import os\n",
    "\n",
    "cwd = os.getcwd()  # Get the current working directory (cwd)\n",
    "files = os.listdir(cwd)  # Get all the files in that directory\n",
    "print(\"Files in %r: %s\" % (cwd, files))"
   ]
  },
  {
   "cell_type": "code",
   "execution_count": 2,
   "id": "e0c9eaf7",
   "metadata": {},
   "outputs": [],
   "source": [
    "import pandas as pd"
   ]
  },
  {
   "cell_type": "markdown",
   "id": "a24c53a5",
   "metadata": {},
   "source": [
    "# Gabungin Data Per Tahun"
   ]
  },
  {
   "cell_type": "markdown",
   "id": "31267336",
   "metadata": {},
   "source": [
    "*Tahun 2017*"
   ]
  },
  {
   "cell_type": "code",
   "execution_count": 3,
   "id": "04db2c72",
   "metadata": {},
   "outputs": [],
   "source": [
    "tahun2017_01 = pd.read_excel(\"201701.xlsx\")\n",
    "tahun2017_02 = pd.read_excel(\"201702.xlsx\")\n",
    "tahun2017_03 = pd.read_excel(\"201703.xlsx\")\n",
    "tahun2017_04 = pd.read_excel(\"201704.xlsx\")\n",
    "tahun2017_05 = pd.read_excel(\"201705.xlsx\")\n",
    "tahun2017_06 = pd.read_excel(\"201706.xlsx\")\n",
    "tahun2017_07 = pd.read_excel(\"201707.xlsx\")\n",
    "tahun2017_08 = pd.read_excel(\"201708.xlsx\")\n",
    "tahun2017_09 = pd.read_excel(\"201709.xlsx\")\n",
    "tahun2017_10 = pd.read_excel(\"201710.xlsx\")\n",
    "tahun2017_11 = pd.read_excel(\"201711.xlsx\")\n",
    "tahun2017_12 = pd.read_excel(\"201712.xlsx\")"
   ]
  },
  {
   "cell_type": "code",
   "execution_count": 4,
   "id": "03983d52",
   "metadata": {},
   "outputs": [],
   "source": [
    "concat_2017 = pd.concat([tahun2017_01,\n",
    "                         tahun2017_02,\n",
    "                         tahun2017_03,\n",
    "                         tahun2017_04,\n",
    "                         tahun2017_05,\n",
    "                         tahun2017_06,\n",
    "                         tahun2017_07,\n",
    "                         tahun2017_08,\n",
    "                         tahun2017_09,\n",
    "                         tahun2017_10,\n",
    "                         tahun2017_11,\n",
    "                         tahun2017_12],\n",
    "                       ignore_index=True,\n",
    "                       sort= False)"
   ]
  },
  {
   "cell_type": "code",
   "execution_count": 8,
   "id": "188b56eb",
   "metadata": {},
   "outputs": [],
   "source": [
    "concat_2017.to_excel(\"concat_2017.xlsx\")"
   ]
  },
  {
   "cell_type": "markdown",
   "id": "3baa092f",
   "metadata": {},
   "source": [
    "*Tahun 2018*"
   ]
  },
  {
   "cell_type": "code",
   "execution_count": 9,
   "id": "1cc3bba2",
   "metadata": {},
   "outputs": [],
   "source": [
    "tahun2018_01 = pd.read_excel(\"201801.xlsx\")\n",
    "tahun2018_02 = pd.read_excel(\"201802.xlsx\")\n",
    "tahun2018_03 = pd.read_excel(\"201803.xlsx\")\n",
    "tahun2018_04 = pd.read_excel(\"201804.xlsx\")\n",
    "tahun2018_05 = pd.read_excel(\"201805.xlsx\")\n",
    "tahun2018_06 = pd.read_excel(\"201806.xlsx\")\n",
    "tahun2018_07 = pd.read_excel(\"201807.xlsx\")\n",
    "tahun2018_08 = pd.read_excel(\"201808.xlsx\")\n",
    "tahun2018_09 = pd.read_excel(\"201809.xlsx\")\n",
    "tahun2018_10 = pd.read_excel(\"201810.xlsx\")\n",
    "tahun2018_11 = pd.read_excel(\"201811.xlsx\")\n",
    "tahun2018_12 = pd.read_excel(\"201812.xlsx\")"
   ]
  },
  {
   "cell_type": "code",
   "execution_count": 10,
   "id": "e254f0a1",
   "metadata": {},
   "outputs": [],
   "source": [
    "concat_2018 = pd.concat([tahun2018_01,\n",
    "                         tahun2018_02,\n",
    "                         tahun2018_03,\n",
    "                         tahun2018_04,\n",
    "                         tahun2018_05,\n",
    "                         tahun2018_06,\n",
    "                         tahun2018_07,\n",
    "                         tahun2018_08,\n",
    "                         tahun2018_09,\n",
    "                         tahun2018_10,\n",
    "                         tahun2018_11,\n",
    "                         tahun2018_12],\n",
    "                       ignore_index=True,\n",
    "                       sort= False)"
   ]
  },
  {
   "cell_type": "code",
   "execution_count": 11,
   "id": "0380ac89",
   "metadata": {},
   "outputs": [],
   "source": [
    "concat_2018.to_excel(\"concat_2018.xlsx\")"
   ]
  },
  {
   "cell_type": "markdown",
   "id": "2b7ba00e",
   "metadata": {},
   "source": [
    "*Tahun 2019*"
   ]
  },
  {
   "cell_type": "code",
   "execution_count": 12,
   "id": "c010cbea",
   "metadata": {},
   "outputs": [],
   "source": [
    "tahun2019_01 = pd.read_excel(\"201901.xlsx\")\n",
    "tahun2019_02 = pd.read_excel(\"201902.xlsx\")\n",
    "tahun2019_03 = pd.read_excel(\"201903.xlsx\")\n",
    "tahun2019_04 = pd.read_excel(\"201904.xlsx\")\n",
    "tahun2019_05 = pd.read_excel(\"201905.xlsx\")\n",
    "tahun2019_06 = pd.read_excel(\"201906.xlsx\")\n",
    "tahun2019_07 = pd.read_excel(\"201907.xlsx\")\n",
    "tahun2019_08 = pd.read_excel(\"201908.xlsx\")\n",
    "tahun2019_09 = pd.read_excel(\"201909.xlsx\")\n",
    "tahun2019_10 = pd.read_excel(\"201910.xlsx\")\n",
    "tahun2019_11 = pd.read_excel(\"201911.xlsx\")\n",
    "tahun2019_12 = pd.read_excel(\"201912.xlsx\")"
   ]
  },
  {
   "cell_type": "code",
   "execution_count": 13,
   "id": "7e57ba58",
   "metadata": {},
   "outputs": [],
   "source": [
    "concat_2019 = pd.concat([tahun2019_01,\n",
    "                         tahun2019_02,\n",
    "                         tahun2019_03,\n",
    "                         tahun2019_04,\n",
    "                         tahun2019_05,\n",
    "                         tahun2019_06,\n",
    "                         tahun2019_07,\n",
    "                         tahun2019_08,\n",
    "                         tahun2019_09,\n",
    "                         tahun2019_10,\n",
    "                         tahun2019_11,\n",
    "                         tahun2019_12],\n",
    "                       ignore_index=True,\n",
    "                       sort= False)"
   ]
  },
  {
   "cell_type": "code",
   "execution_count": 14,
   "id": "4a9c49b1",
   "metadata": {},
   "outputs": [],
   "source": [
    "concat_2019.to_excel(\"concat_2019.xlsx\")"
   ]
  },
  {
   "cell_type": "markdown",
   "id": "bf19a738",
   "metadata": {},
   "source": [
    "*Tahun 2020*"
   ]
  },
  {
   "cell_type": "code",
   "execution_count": 15,
   "id": "49c5c382",
   "metadata": {},
   "outputs": [],
   "source": [
    "tahun2020_01 = pd.read_excel(\"202001.xlsx\")\n",
    "tahun2020_02 = pd.read_excel(\"202002.xlsx\")\n",
    "tahun2020_03 = pd.read_excel(\"202003.xlsx\")\n",
    "tahun2020_04 = pd.read_excel(\"202004.xlsx\")\n",
    "tahun2020_05 = pd.read_excel(\"202005.xlsx\")\n",
    "tahun2020_06 = pd.read_excel(\"202006.xlsx\")\n",
    "tahun2020_07 = pd.read_excel(\"202007.xlsx\")\n",
    "tahun2020_08 = pd.read_excel(\"202008.xlsx\")\n",
    "tahun2020_09 = pd.read_excel(\"202009.xlsx\")\n",
    "tahun2020_10 = pd.read_excel(\"202010.xlsx\")\n",
    "tahun2020_11 = pd.read_excel(\"202011.xlsx\")\n",
    "tahun2020_12 = pd.read_excel(\"202012.xlsx\")"
   ]
  },
  {
   "cell_type": "code",
   "execution_count": 16,
   "id": "c961313c",
   "metadata": {},
   "outputs": [],
   "source": [
    "concat_2020 = pd.concat([tahun2020_01,\n",
    "                         tahun2020_02,\n",
    "                         tahun2020_03,\n",
    "                         tahun2020_04,\n",
    "                         tahun2020_05,\n",
    "                         tahun2020_06,\n",
    "                         tahun2020_07,\n",
    "                         tahun2020_08,\n",
    "                         tahun2020_09,\n",
    "                         tahun2020_10,\n",
    "                         tahun2020_11,\n",
    "                         tahun2020_12],\n",
    "                       ignore_index=True,\n",
    "                       sort= False)"
   ]
  },
  {
   "cell_type": "code",
   "execution_count": 17,
   "id": "9b60b6d9",
   "metadata": {},
   "outputs": [],
   "source": [
    "concat_2020.to_excel(\"concat_2020.xlsx\")"
   ]
  },
  {
   "cell_type": "markdown",
   "id": "34ba4b11",
   "metadata": {},
   "source": [
    "*Tahun 2021*"
   ]
  },
  {
   "cell_type": "code",
   "execution_count": 18,
   "id": "da55828c",
   "metadata": {},
   "outputs": [],
   "source": [
    "tahun2021_01 = pd.read_excel(\"202101.xlsx\")\n",
    "tahun2021_02 = pd.read_excel(\"202102.xlsx\")\n",
    "tahun2021_03 = pd.read_excel(\"202103.xlsx\")\n",
    "tahun2021_04 = pd.read_excel(\"202104.xlsx\")\n",
    "tahun2021_05 = pd.read_excel(\"202105.xlsx\")\n",
    "tahun2021_06 = pd.read_excel(\"202106.xlsx\")\n",
    "tahun2021_07 = pd.read_excel(\"202107.xlsx\")\n",
    "tahun2021_08 = pd.read_excel(\"202108.xlsx\")\n",
    "tahun2021_09 = pd.read_excel(\"202109.xlsx\")\n",
    "tahun2021_10 = pd.read_excel(\"202110.xlsx\")\n",
    "tahun2021_11 = pd.read_excel(\"202111.xlsx\")\n",
    "tahun2021_12 = pd.read_excel(\"202112.xlsx\")"
   ]
  },
  {
   "cell_type": "code",
   "execution_count": 19,
   "id": "f38b64b3",
   "metadata": {},
   "outputs": [],
   "source": [
    "concat_2021 = pd.concat([tahun2021_01,\n",
    "                         tahun2021_02,\n",
    "                         tahun2021_03,\n",
    "                         tahun2021_04,\n",
    "                         tahun2021_05,\n",
    "                         tahun2021_06,\n",
    "                         tahun2021_07,\n",
    "                         tahun2021_08,\n",
    "                         tahun2021_09,\n",
    "                         tahun2021_10,\n",
    "                         tahun2021_11,\n",
    "                         tahun2021_12],\n",
    "                       ignore_index=True,\n",
    "                       sort= False)"
   ]
  },
  {
   "cell_type": "code",
   "execution_count": 20,
   "id": "ce2a47be",
   "metadata": {},
   "outputs": [],
   "source": [
    "concat_2021.to_excel(\"concat_2021.xlsx\")"
   ]
  },
  {
   "cell_type": "markdown",
   "id": "0aed8c75",
   "metadata": {},
   "source": [
    "# Filter Unique \"NAMA\" dan \"TGL_LAHIR\""
   ]
  },
  {
   "cell_type": "code",
   "execution_count": 4,
   "id": "966b7d97",
   "metadata": {},
   "outputs": [],
   "source": [
    "concat_2017 = pd.read_excel(\"concat_2017.xlsx\")\n",
    "concat_2018 = pd.read_excel(\"concat_2018.xlsx\")\n",
    "concat_2019 = pd.read_excel(\"concat_2019.xlsx\")\n",
    "concat_2020 = pd.read_excel(\"concat_2020.xlsx\")\n",
    "concat_2021 = pd.read_excel(\"concat_2021.xlsx\")"
   ]
  },
  {
   "cell_type": "code",
   "execution_count": 5,
   "id": "2abb7f07",
   "metadata": {},
   "outputs": [],
   "source": [
    "concat_2018 = pd.read_excel(\"concat_2018.xlsx\")"
   ]
  },
  {
   "cell_type": "code",
   "execution_count": 22,
   "id": "f93e11ea",
   "metadata": {},
   "outputs": [],
   "source": [
    "count_buy_2018 = concat_2018[['NAMA','TGL_LAHIR']].value_counts()"
   ]
  },
  {
   "cell_type": "code",
   "execution_count": 24,
   "id": "d00bac74",
   "metadata": {},
   "outputs": [],
   "source": [
    "count_buy_2018.to_excel('count_buy_2018.xlsx')"
   ]
  },
  {
   "cell_type": "code",
   "execution_count": 25,
   "id": "46629ca2",
   "metadata": {},
   "outputs": [],
   "source": [
    "concat_2019 = pd.read_excel(\"concat_2019.xlsx\")\n",
    "concat_2020 = pd.read_excel(\"concat_2020.xlsx\")\n",
    "concat_2021 = pd.read_excel(\"concat_2021.xlsx\")"
   ]
  },
  {
   "cell_type": "code",
   "execution_count": 28,
   "id": "67fb7711",
   "metadata": {},
   "outputs": [],
   "source": [
    "count_buy_2019 = concat_2019[['NAMA','TGL_LAHIR']].value_counts()\n",
    "count_buy_2020 = concat_2020[['NAMA','TGL_LAHIR']].value_counts()\n",
    "count_buy_2021 = concat_2021[['NAMA','TGL_LAHIR']].value_counts()"
   ]
  },
  {
   "cell_type": "code",
   "execution_count": 29,
   "id": "67e08137",
   "metadata": {},
   "outputs": [],
   "source": [
    "count_buy_2019.to_excel('count_buy_2019.xlsx')\n",
    "count_buy_2020.to_excel('count_buy_2020.xlsx')\n",
    "count_buy_2021.to_excel('count_buy_2021.xlsx')"
   ]
  },
  {
   "cell_type": "code",
   "execution_count": 31,
   "id": "fc96060a",
   "metadata": {
    "scrolled": true
   },
   "outputs": [
    {
     "name": "stdout",
     "output_type": "stream",
     "text": [
      "NAMA                         TGL_LAHIR \n",
      "PT. MITRA BISNIS MADANI      2016-02-04    298\n",
      "                             2016-05-03    227\n",
      "CV. 3RSP GEMILANG            2018-01-30    154\n",
      "PT. MITRA BISNIS MADANI      2016-01-26    149\n",
      "PT. MANDIRI CIPTA SEJAHTERA  2015-01-12    147\n",
      "                                          ... \n",
      "HAIDAR                       1979-05-16      1\n",
      "HAIDAR  AINURRAHMAN          1998-07-26      1\n",
      "HAIDAR ABDUSSYAKUR           1998-09-11      1\n",
      "HAIDAR AL FARISY ANFA        2002-03-20      1\n",
      "yeyen kurniati               1980-01-20      1\n",
      "Length: 717951, dtype: int64\n"
     ]
    }
   ],
   "source": [
    "print(count_buy_2019)"
   ]
  },
  {
   "cell_type": "markdown",
   "id": "a1d6fd75",
   "metadata": {},
   "source": [
    "# Cleansing Data Filter"
   ]
  },
  {
   "cell_type": "markdown",
   "id": "d51e640f",
   "metadata": {},
   "source": [
    "*Tahun 2018*"
   ]
  },
  {
   "cell_type": "code",
   "execution_count": 38,
   "id": "0b4fadd5",
   "metadata": {},
   "outputs": [],
   "source": [
    "clean_buy_2018 = pd.read_excel(\"count_buy_2018.xlsx\")"
   ]
  },
  {
   "cell_type": "code",
   "execution_count": 50,
   "id": "af385595",
   "metadata": {},
   "outputs": [
    {
     "data": {
      "text/html": [
       "<div>\n",
       "<style scoped>\n",
       "    .dataframe tbody tr th:only-of-type {\n",
       "        vertical-align: middle;\n",
       "    }\n",
       "\n",
       "    .dataframe tbody tr th {\n",
       "        vertical-align: top;\n",
       "    }\n",
       "\n",
       "    .dataframe thead th {\n",
       "        text-align: right;\n",
       "    }\n",
       "</style>\n",
       "<table border=\"1\" class=\"dataframe\">\n",
       "  <thead>\n",
       "    <tr style=\"text-align: right;\">\n",
       "      <th></th>\n",
       "      <th>NAMA</th>\n",
       "      <th>TGL_LAHIR</th>\n",
       "      <th>COUNT</th>\n",
       "    </tr>\n",
       "  </thead>\n",
       "  <tbody>\n",
       "    <tr>\n",
       "      <th>6</th>\n",
       "      <td>AGUS PRASTYIO</td>\n",
       "      <td>1987-07-30</td>\n",
       "      <td>105</td>\n",
       "    </tr>\n",
       "    <tr>\n",
       "      <th>10</th>\n",
       "      <td>DEDDY ISKANDAR</td>\n",
       "      <td>1982-01-15</td>\n",
       "      <td>75</td>\n",
       "    </tr>\n",
       "    <tr>\n",
       "      <th>16</th>\n",
       "      <td>MOHAMMAD HUSEN</td>\n",
       "      <td>1969-06-07</td>\n",
       "      <td>59</td>\n",
       "    </tr>\n",
       "    <tr>\n",
       "      <th>30</th>\n",
       "      <td>POEY SUPYADI SOEMANTA</td>\n",
       "      <td>1958-06-21</td>\n",
       "      <td>39</td>\n",
       "    </tr>\n",
       "    <tr>\n",
       "      <th>32</th>\n",
       "      <td>WIRAHA GURSIDI</td>\n",
       "      <td>1983-01-10</td>\n",
       "      <td>37</td>\n",
       "    </tr>\n",
       "    <tr>\n",
       "      <th>...</th>\n",
       "      <td>...</td>\n",
       "      <td>...</td>\n",
       "      <td>...</td>\n",
       "    </tr>\n",
       "    <tr>\n",
       "      <th>679425</th>\n",
       "      <td>HAERUN NISA H</td>\n",
       "      <td>1976-04-02</td>\n",
       "      <td>1</td>\n",
       "    </tr>\n",
       "    <tr>\n",
       "      <th>679426</th>\n",
       "      <td>HAERUN NUR KHOIRUN</td>\n",
       "      <td>1989-08-13</td>\n",
       "      <td>1</td>\n",
       "    </tr>\n",
       "    <tr>\n",
       "      <th>679427</th>\n",
       "      <td>HAERUNI NURNISA</td>\n",
       "      <td>1992-09-25</td>\n",
       "      <td>1</td>\n",
       "    </tr>\n",
       "    <tr>\n",
       "      <th>679428</th>\n",
       "      <td>HAERUNISA</td>\n",
       "      <td>1989-08-16</td>\n",
       "      <td>1</td>\n",
       "    </tr>\n",
       "    <tr>\n",
       "      <th>679429</th>\n",
       "      <td>saodah</td>\n",
       "      <td>1988-11-24</td>\n",
       "      <td>1</td>\n",
       "    </tr>\n",
       "  </tbody>\n",
       "</table>\n",
       "<p>434123 rows × 3 columns</p>\n",
       "</div>"
      ],
      "text/plain": [
       "                         NAMA  TGL_LAHIR  COUNT\n",
       "6               AGUS PRASTYIO 1987-07-30    105\n",
       "10             DEDDY ISKANDAR 1982-01-15     75\n",
       "16             MOHAMMAD HUSEN 1969-06-07     59\n",
       "30      POEY SUPYADI SOEMANTA 1958-06-21     39\n",
       "32             WIRAHA GURSIDI 1983-01-10     37\n",
       "...                       ...        ...    ...\n",
       "679425          HAERUN NISA H 1976-04-02      1\n",
       "679426     HAERUN NUR KHOIRUN 1989-08-13      1\n",
       "679427        HAERUNI NURNISA 1992-09-25      1\n",
       "679428              HAERUNISA 1989-08-16      1\n",
       "679429                 saodah 1988-11-24      1\n",
       "\n",
       "[434123 rows x 3 columns]"
      ]
     },
     "execution_count": 50,
     "metadata": {},
     "output_type": "execute_result"
    }
   ],
   "source": [
    "clean_buy_2018 = clean_buy_2018[clean_buy_2018[\"NAMA\"].str.contains(\"PT\") == False]\n",
    "clean_buy_2018 = clean_buy_2018[clean_buy_2018[\"NAMA\"].str.contains(\"CV\") == False]\n",
    "clean_buy_2018 = clean_buy_2018[clean_buy_2018[\"NAMA\"].str.contains(\"PEMERINTAH\") == False]\n",
    "clean_buy_2018 = clean_buy_2018[clean_buy_2018[\"NAMA\"].str.contains(\"KOPERASI\") == False]\n",
    "clean_buy_2018 = clean_buy_2018[clean_buy_2018[\"NAMA\"].str.contains(\"DINAS\") == False]\n",
    "clean_buy_2018 = clean_buy_2018[clean_buy_2018[\"NAMA\"].str.contains(\"PD\") == False]\n",
    "clean_buy_2018 = clean_buy_2018[clean_buy_2018[\"NAMA\"].str.contains(\"YAYASAN\") == False]\n",
    "clean_buy_2018 = clean_buy_2018[clean_buy_2018[\"NAMA\"].str.contains(\"UNIVERSITAS\") == False]\n",
    "clean_buy_2018 = clean_buy_2018[clean_buy_2018[\"NAMA\"].str.contains(\"INSTITUT\") == False]\n",
    "clean_buy_2018 = clean_buy_2018[clean_buy_2018[\"NAMA\"].str.contains(\"KOP\") == False]\n",
    "clean_buy_2018 = clean_buy_2018[clean_buy_2018[\"NAMA\"].str.contains(\"BANK\") == False]\n",
    "clean_buy_2018 = clean_buy_2018[clean_buy_2018[\"NAMA\"].str.contains(\"PERKUMPULAN\") == False]\n",
    "clean_buy_2018 = clean_buy_2018[clean_buy_2018[\"NAMA\"].str.contains(\"CONSORTIUM\") == False]\n",
    "clean_buy_2018 = clean_buy_2018[clean_buy_2018[\"NAMA\"].str.contains(\"BANDUNG\") == False]\n",
    "clean_buy_2018 = clean_buy_2018[clean_buy_2018[\"NAMA\"].str.contains(\"SUMEDANG\") == False]\n",
    "clean_buy_2018 = clean_buy_2018[clean_buy_2018[\"NAMA\"].str.contains(\"BADAN\") == False]\n",
    "clean_buy_2018 = clean_buy_2018[clean_buy_2018[\"NAMA\"].str.contains(\"KSU\") == False]\n",
    "clean_buy_2018 = clean_buy_2018[clean_buy_2018[\"NAMA\"].str.contains(\"FAKULTAS\") == False]\n",
    "clean_buy_2018 = clean_buy_2018[clean_buy_2018[\"NAMA\"].str.contains(\"PUSAT\") == False]\n",
    "clean_buy_2018 = clean_buy_2018[clean_buy_2018[\"NAMA\"].str.contains(\"KSP\") == False]\n",
    "clean_buy_2018 = clean_buy_2018[clean_buy_2018[\"NAMA\"].str.contains(\"PINJAM\") == False]\n",
    "clean_buy_2018 = clean_buy_2018[clean_buy_2018[\"NAMA\"].str.contains(\"GARUT\") == False]\n",
    "clean_buy_2018 = clean_buy_2018[clean_buy_2018[\"NAMA\"].str.contains(\"BOGOR\") == False]\n",
    "clean_buy_2018 = clean_buy_2018[clean_buy_2018[\"NAMA\"].str.contains(\"CIANJUR\") == False]\n",
    "clean_buy_2018 = clean_buy_2018[clean_buy_2018[\"NAMA\"].str.contains(\"SUBANG\") == False]\n",
    "clean_buy_2018 = clean_buy_2018[clean_buy_2018[\"NAMA\"].str.contains(\"KARAWANG\") == False]\n",
    "clean_buy_2018 = clean_buy_2018[clean_buy_2018[\"NAMA\"].str.contains(\"TASIKMALAYA\") == False]\n",
    "clean_buy_2018 = clean_buy_2018[clean_buy_2018[\"NAMA\"].str.contains(\"INDRAMAYU\") == False]\n",
    "clean_buy_2018 = clean_buy_2018[clean_buy_2018[\"NAMA\"].str.contains(\"KANTOR\") == False]\n",
    "clean_buy_2018"
   ]
  },
  {
   "cell_type": "code",
   "execution_count": 51,
   "id": "e68e796a",
   "metadata": {},
   "outputs": [],
   "source": [
    "df.to_excel(\"clean_buy_2018.xlsx\")"
   ]
  },
  {
   "cell_type": "markdown",
   "id": "19f40542",
   "metadata": {},
   "source": [
    "*Tahun 2019*"
   ]
  },
  {
   "cell_type": "code",
   "execution_count": 41,
   "id": "a16fdf50",
   "metadata": {},
   "outputs": [],
   "source": [
    "clean_buy_2019 = pd.read_excel(\"count_buy_2019.xlsx\")"
   ]
  },
  {
   "cell_type": "code",
   "execution_count": 52,
   "id": "25b7afd3",
   "metadata": {},
   "outputs": [
    {
     "data": {
      "text/html": [
       "<div>\n",
       "<style scoped>\n",
       "    .dataframe tbody tr th:only-of-type {\n",
       "        vertical-align: middle;\n",
       "    }\n",
       "\n",
       "    .dataframe tbody tr th {\n",
       "        vertical-align: top;\n",
       "    }\n",
       "\n",
       "    .dataframe thead th {\n",
       "        text-align: right;\n",
       "    }\n",
       "</style>\n",
       "<table border=\"1\" class=\"dataframe\">\n",
       "  <thead>\n",
       "    <tr style=\"text-align: right;\">\n",
       "      <th></th>\n",
       "      <th>NAMA</th>\n",
       "      <th>TGL_LAHIR</th>\n",
       "      <th>COUNT</th>\n",
       "    </tr>\n",
       "  </thead>\n",
       "  <tbody>\n",
       "    <tr>\n",
       "      <th>14</th>\n",
       "      <td>IMELDA MURSIMAH</td>\n",
       "      <td>1992-03-08</td>\n",
       "      <td>77</td>\n",
       "    </tr>\n",
       "    <tr>\n",
       "      <th>15</th>\n",
       "      <td>UDIN SARIPUDIN</td>\n",
       "      <td>1975-03-12</td>\n",
       "      <td>76</td>\n",
       "    </tr>\n",
       "    <tr>\n",
       "      <th>28</th>\n",
       "      <td>RIDWAN</td>\n",
       "      <td>1988-06-14</td>\n",
       "      <td>44</td>\n",
       "    </tr>\n",
       "    <tr>\n",
       "      <th>35</th>\n",
       "      <td>DENI BAHTIAR</td>\n",
       "      <td>1996-09-21</td>\n",
       "      <td>40</td>\n",
       "    </tr>\n",
       "    <tr>\n",
       "      <th>41</th>\n",
       "      <td>ADAM KUNCORO</td>\n",
       "      <td>1985-02-19</td>\n",
       "      <td>32</td>\n",
       "    </tr>\n",
       "    <tr>\n",
       "      <th>...</th>\n",
       "      <td>...</td>\n",
       "      <td>...</td>\n",
       "      <td>...</td>\n",
       "    </tr>\n",
       "    <tr>\n",
       "      <th>717946</th>\n",
       "      <td>HAIDAR</td>\n",
       "      <td>1979-05-16</td>\n",
       "      <td>1</td>\n",
       "    </tr>\n",
       "    <tr>\n",
       "      <th>717947</th>\n",
       "      <td>HAIDAR  AINURRAHMAN</td>\n",
       "      <td>1998-07-26</td>\n",
       "      <td>1</td>\n",
       "    </tr>\n",
       "    <tr>\n",
       "      <th>717948</th>\n",
       "      <td>HAIDAR ABDUSSYAKUR</td>\n",
       "      <td>1998-09-11</td>\n",
       "      <td>1</td>\n",
       "    </tr>\n",
       "    <tr>\n",
       "      <th>717949</th>\n",
       "      <td>HAIDAR AL FARISY ANFA</td>\n",
       "      <td>2002-03-20</td>\n",
       "      <td>1</td>\n",
       "    </tr>\n",
       "    <tr>\n",
       "      <th>717950</th>\n",
       "      <td>yeyen kurniati</td>\n",
       "      <td>1980-01-20</td>\n",
       "      <td>1</td>\n",
       "    </tr>\n",
       "  </tbody>\n",
       "</table>\n",
       "<p>490331 rows × 3 columns</p>\n",
       "</div>"
      ],
      "text/plain": [
       "                         NAMA  TGL_LAHIR  COUNT\n",
       "14            IMELDA MURSIMAH 1992-03-08     77\n",
       "15             UDIN SARIPUDIN 1975-03-12     76\n",
       "28                    RIDWAN  1988-06-14     44\n",
       "35               DENI BAHTIAR 1996-09-21     40\n",
       "41               ADAM KUNCORO 1985-02-19     32\n",
       "...                       ...        ...    ...\n",
       "717946                HAIDAR  1979-05-16      1\n",
       "717947    HAIDAR  AINURRAHMAN 1998-07-26      1\n",
       "717948     HAIDAR ABDUSSYAKUR 1998-09-11      1\n",
       "717949  HAIDAR AL FARISY ANFA 2002-03-20      1\n",
       "717950         yeyen kurniati 1980-01-20      1\n",
       "\n",
       "[490331 rows x 3 columns]"
      ]
     },
     "execution_count": 52,
     "metadata": {},
     "output_type": "execute_result"
    }
   ],
   "source": [
    "clean_buy_2019 = clean_buy_2019[clean_buy_2019[\"NAMA\"].str.contains(\"PT\") == False]\n",
    "clean_buy_2019 = clean_buy_2019[clean_buy_2019[\"NAMA\"].str.contains(\"CV\") == False]\n",
    "clean_buy_2019 = clean_buy_2019[clean_buy_2019[\"NAMA\"].str.contains(\"PEMERINTAH\") == False]\n",
    "clean_buy_2019 = clean_buy_2019[clean_buy_2019[\"NAMA\"].str.contains(\"KOPERASI\") == False]\n",
    "clean_buy_2019 = clean_buy_2019[clean_buy_2019[\"NAMA\"].str.contains(\"DINAS\") == False]\n",
    "clean_buy_2019 = clean_buy_2019[clean_buy_2019[\"NAMA\"].str.contains(\"PD\") == False]\n",
    "clean_buy_2019 = clean_buy_2019[clean_buy_2019[\"NAMA\"].str.contains(\"YAYASAN\") == False]\n",
    "clean_buy_2019 = clean_buy_2019[clean_buy_2019[\"NAMA\"].str.contains(\"UNIVERSITAS\") == False]\n",
    "clean_buy_2019 = clean_buy_2019[clean_buy_2019[\"NAMA\"].str.contains(\"INSTITUT\") == False]\n",
    "clean_buy_2019 = clean_buy_2019[clean_buy_2019[\"NAMA\"].str.contains(\"KOP\") == False]\n",
    "clean_buy_2019 = clean_buy_2019[clean_buy_2019[\"NAMA\"].str.contains(\"BANK\") == False]\n",
    "clean_buy_2019 = clean_buy_2019[clean_buy_2019[\"NAMA\"].str.contains(\"PERKUMPULAN\") == False]\n",
    "clean_buy_2019 = clean_buy_2019[clean_buy_2019[\"NAMA\"].str.contains(\"CONSORTIUM\") == False]\n",
    "clean_buy_2019 = clean_buy_2019[clean_buy_2019[\"NAMA\"].str.contains(\"BANDUNG\") == False]\n",
    "clean_buy_2019 = clean_buy_2019[clean_buy_2019[\"NAMA\"].str.contains(\"SUMEDANG\") == False]\n",
    "clean_buy_2019 = clean_buy_2019[clean_buy_2019[\"NAMA\"].str.contains(\"BADAN\") == False]\n",
    "clean_buy_2019 = clean_buy_2019[clean_buy_2019[\"NAMA\"].str.contains(\"KSU\") == False]\n",
    "clean_buy_2019 = clean_buy_2019[clean_buy_2019[\"NAMA\"].str.contains(\"FAKULTAS\") == False]\n",
    "clean_buy_2019 = clean_buy_2019[clean_buy_2019[\"NAMA\"].str.contains(\"PUSAT\") == False]\n",
    "clean_buy_2019 = clean_buy_2019[clean_buy_2019[\"NAMA\"].str.contains(\"KSP\") == False]\n",
    "clean_buy_2019 = clean_buy_2019[clean_buy_2019[\"NAMA\"].str.contains(\"PINJAM\") == False]\n",
    "clean_buy_2019 = clean_buy_2019[clean_buy_2019[\"NAMA\"].str.contains(\"GARUT\") == False]\n",
    "clean_buy_2019 = clean_buy_2019[clean_buy_2019[\"NAMA\"].str.contains(\"BOGOR\") == False]\n",
    "clean_buy_2019 = clean_buy_2019[clean_buy_2019[\"NAMA\"].str.contains(\"CIANJUR\") == False]\n",
    "clean_buy_2019 = clean_buy_2019[clean_buy_2019[\"NAMA\"].str.contains(\"SUBANG\") == False]\n",
    "clean_buy_2019 = clean_buy_2019[clean_buy_2019[\"NAMA\"].str.contains(\"KARAWANG\") == False]\n",
    "clean_buy_2019 = clean_buy_2019[clean_buy_2019[\"NAMA\"].str.contains(\"TASIKMALAYA\") == False]\n",
    "clean_buy_2019 = clean_buy_2019[clean_buy_2019[\"NAMA\"].str.contains(\"INDRAMAYU\") == False]\n",
    "clean_buy_2019 = clean_buy_2019[clean_buy_2019[\"NAMA\"].str.contains(\"KANTOR\") == False]\n",
    "clean_buy_2019"
   ]
  },
  {
   "cell_type": "code",
   "execution_count": 53,
   "id": "ed0ea6f4",
   "metadata": {},
   "outputs": [],
   "source": [
    "clean_buy_2019.to_excel(\"clean_buy_2019.xlsx\")"
   ]
  },
  {
   "cell_type": "markdown",
   "id": "95de36b4",
   "metadata": {},
   "source": [
    "*Tahun 2020*"
   ]
  },
  {
   "cell_type": "code",
   "execution_count": 44,
   "id": "e3d67773",
   "metadata": {},
   "outputs": [],
   "source": [
    "clean_buy_2020 = pd.read_excel(\"count_buy_2020.xlsx\")"
   ]
  },
  {
   "cell_type": "code",
   "execution_count": 54,
   "id": "76768db1",
   "metadata": {},
   "outputs": [
    {
     "data": {
      "text/html": [
       "<div>\n",
       "<style scoped>\n",
       "    .dataframe tbody tr th:only-of-type {\n",
       "        vertical-align: middle;\n",
       "    }\n",
       "\n",
       "    .dataframe tbody tr th {\n",
       "        vertical-align: top;\n",
       "    }\n",
       "\n",
       "    .dataframe thead th {\n",
       "        text-align: right;\n",
       "    }\n",
       "</style>\n",
       "<table border=\"1\" class=\"dataframe\">\n",
       "  <thead>\n",
       "    <tr style=\"text-align: right;\">\n",
       "      <th></th>\n",
       "      <th>NAMA</th>\n",
       "      <th>TGL_LAHIR</th>\n",
       "      <th>COUNT</th>\n",
       "    </tr>\n",
       "  </thead>\n",
       "  <tbody>\n",
       "    <tr>\n",
       "      <th>52</th>\n",
       "      <td>DEDE SULAIMAN</td>\n",
       "      <td>1987-12-25 00:00:00</td>\n",
       "      <td>28</td>\n",
       "    </tr>\n",
       "    <tr>\n",
       "      <th>59</th>\n",
       "      <td>MINTARJA</td>\n",
       "      <td>1976-05-10 00:00:00</td>\n",
       "      <td>24</td>\n",
       "    </tr>\n",
       "    <tr>\n",
       "      <th>60</th>\n",
       "      <td>REGA MAULANA FIRDAUS</td>\n",
       "      <td>1995-06-26 00:00:00</td>\n",
       "      <td>23</td>\n",
       "    </tr>\n",
       "    <tr>\n",
       "      <th>73</th>\n",
       "      <td>DIAN CAHYA UTAMI</td>\n",
       "      <td>1999-05-03 00:00:00</td>\n",
       "      <td>18</td>\n",
       "    </tr>\n",
       "    <tr>\n",
       "      <th>76</th>\n",
       "      <td>MUHLISIN</td>\n",
       "      <td>1975-11-05 00:00:00</td>\n",
       "      <td>18</td>\n",
       "    </tr>\n",
       "    <tr>\n",
       "      <th>...</th>\n",
       "      <td>...</td>\n",
       "      <td>...</td>\n",
       "      <td>...</td>\n",
       "    </tr>\n",
       "    <tr>\n",
       "      <th>469871</th>\n",
       "      <td>HAFID</td>\n",
       "      <td>1995-12-02 00:00:00</td>\n",
       "      <td>1</td>\n",
       "    </tr>\n",
       "    <tr>\n",
       "      <th>469872</th>\n",
       "      <td>HAFIATUL ALFARIZI</td>\n",
       "      <td>1998-02-25 00:00:00</td>\n",
       "      <td>1</td>\n",
       "    </tr>\n",
       "    <tr>\n",
       "      <th>469873</th>\n",
       "      <td>HAFFIN  FIRANA HATIA</td>\n",
       "      <td>2001-10-20 00:00:00</td>\n",
       "      <td>1</td>\n",
       "    </tr>\n",
       "    <tr>\n",
       "      <th>469874</th>\n",
       "      <td>HAFFID ARINANDIKA</td>\n",
       "      <td>2001-08-23 00:00:00</td>\n",
       "      <td>1</td>\n",
       "    </tr>\n",
       "    <tr>\n",
       "      <th>469875</th>\n",
       "      <td>ZWANDHIKA FERNANDA</td>\n",
       "      <td>1986-03-13 00:00:00</td>\n",
       "      <td>1</td>\n",
       "    </tr>\n",
       "  </tbody>\n",
       "</table>\n",
       "<p>330074 rows × 3 columns</p>\n",
       "</div>"
      ],
      "text/plain": [
       "                        NAMA            TGL_LAHIR  COUNT\n",
       "52             DEDE SULAIMAN  1987-12-25 00:00:00     28\n",
       "59                 MINTARJA   1976-05-10 00:00:00     24\n",
       "60      REGA MAULANA FIRDAUS  1995-06-26 00:00:00     23\n",
       "73          DIAN CAHYA UTAMI  1999-05-03 00:00:00     18\n",
       "76                 MUHLISIN   1975-11-05 00:00:00     18\n",
       "...                      ...                  ...    ...\n",
       "469871                HAFID   1995-12-02 00:00:00      1\n",
       "469872     HAFIATUL ALFARIZI  1998-02-25 00:00:00      1\n",
       "469873  HAFFIN  FIRANA HATIA  2001-10-20 00:00:00      1\n",
       "469874     HAFFID ARINANDIKA  2001-08-23 00:00:00      1\n",
       "469875  ZWANDHIKA FERNANDA    1986-03-13 00:00:00      1\n",
       "\n",
       "[330074 rows x 3 columns]"
      ]
     },
     "execution_count": 54,
     "metadata": {},
     "output_type": "execute_result"
    }
   ],
   "source": [
    "clean_buy_2020 = clean_buy_2020[clean_buy_2020[\"NAMA\"].str.contains(\"PT\") == False]\n",
    "clean_buy_2020 = clean_buy_2020[clean_buy_2020[\"NAMA\"].str.contains(\"CV\") == False]\n",
    "clean_buy_2020 = clean_buy_2020[clean_buy_2020[\"NAMA\"].str.contains(\"PEMERINTAH\") == False]\n",
    "clean_buy_2020 = clean_buy_2020[clean_buy_2020[\"NAMA\"].str.contains(\"KOPERASI\") == False]\n",
    "clean_buy_2020 = clean_buy_2020[clean_buy_2020[\"NAMA\"].str.contains(\"DINAS\") == False]\n",
    "clean_buy_2020 = clean_buy_2020[clean_buy_2020[\"NAMA\"].str.contains(\"PD\") == False]\n",
    "clean_buy_2020 = clean_buy_2020[clean_buy_2020[\"NAMA\"].str.contains(\"YAYASAN\") == False]\n",
    "clean_buy_2020 = clean_buy_2020[clean_buy_2020[\"NAMA\"].str.contains(\"UNIVERSITAS\") == False]\n",
    "clean_buy_2020 = clean_buy_2020[clean_buy_2020[\"NAMA\"].str.contains(\"INSTITUT\") == False]\n",
    "clean_buy_2020 = clean_buy_2020[clean_buy_2020[\"NAMA\"].str.contains(\"KOP\") == False]\n",
    "clean_buy_2020 = clean_buy_2020[clean_buy_2020[\"NAMA\"].str.contains(\"BANK\") == False]\n",
    "clean_buy_2020 = clean_buy_2020[clean_buy_2020[\"NAMA\"].str.contains(\"PERKUMPULAN\") == False]\n",
    "clean_buy_2020 = clean_buy_2020[clean_buy_2020[\"NAMA\"].str.contains(\"CONSORTIUM\") == False]\n",
    "clean_buy_2020 = clean_buy_2020[clean_buy_2020[\"NAMA\"].str.contains(\"BANDUNG\") == False]\n",
    "clean_buy_2020 = clean_buy_2020[clean_buy_2020[\"NAMA\"].str.contains(\"SUMEDANG\") == False]\n",
    "clean_buy_2020 = clean_buy_2020[clean_buy_2020[\"NAMA\"].str.contains(\"BADAN\") == False]\n",
    "clean_buy_2020 = clean_buy_2020[clean_buy_2020[\"NAMA\"].str.contains(\"KSU\") == False]\n",
    "clean_buy_2020 = clean_buy_2020[clean_buy_2020[\"NAMA\"].str.contains(\"FAKULTAS\") == False]\n",
    "clean_buy_2020 = clean_buy_2020[clean_buy_2020[\"NAMA\"].str.contains(\"PUSAT\") == False]\n",
    "clean_buy_2020 = clean_buy_2020[clean_buy_2020[\"NAMA\"].str.contains(\"KSP\") == False]\n",
    "clean_buy_2020 = clean_buy_2020[clean_buy_2020[\"NAMA\"].str.contains(\"PINJAM\") == False]\n",
    "clean_buy_2020 = clean_buy_2020[clean_buy_2020[\"NAMA\"].str.contains(\"GARUT\") == False]\n",
    "clean_buy_2020 = clean_buy_2020[clean_buy_2020[\"NAMA\"].str.contains(\"BOGOR\") == False]\n",
    "clean_buy_2020 = clean_buy_2020[clean_buy_2020[\"NAMA\"].str.contains(\"CIANJUR\") == False]\n",
    "clean_buy_2020 = clean_buy_2020[clean_buy_2020[\"NAMA\"].str.contains(\"SUBANG\") == False]\n",
    "clean_buy_2020 = clean_buy_2020[clean_buy_2020[\"NAMA\"].str.contains(\"KARAWANG\") == False]\n",
    "clean_buy_2020 = clean_buy_2020[clean_buy_2020[\"NAMA\"].str.contains(\"TASIKMALAYA\") == False]\n",
    "clean_buy_2020 = clean_buy_2020[clean_buy_2020[\"NAMA\"].str.contains(\"INDRAMAYU\") == False]\n",
    "clean_buy_2020 = clean_buy_2020[clean_buy_2020[\"NAMA\"].str.contains(\"KANTOR\") == False]\n",
    "clean_buy_2020"
   ]
  },
  {
   "cell_type": "code",
   "execution_count": 55,
   "id": "cf3260d6",
   "metadata": {},
   "outputs": [],
   "source": [
    "clean_buy_2020.to_excel(\"clean_buy_2020.xlsx\")"
   ]
  },
  {
   "cell_type": "markdown",
   "id": "403cf029",
   "metadata": {},
   "source": [
    "*Tahun 2021*"
   ]
  },
  {
   "cell_type": "code",
   "execution_count": 47,
   "id": "010bdb5c",
   "metadata": {},
   "outputs": [],
   "source": [
    "clean_buy_2021 = pd.read_excel(\"count_buy_2021.xlsx\")"
   ]
  },
  {
   "cell_type": "code",
   "execution_count": 56,
   "id": "fc78d0fb",
   "metadata": {},
   "outputs": [
    {
     "data": {
      "text/html": [
       "<div>\n",
       "<style scoped>\n",
       "    .dataframe tbody tr th:only-of-type {\n",
       "        vertical-align: middle;\n",
       "    }\n",
       "\n",
       "    .dataframe tbody tr th {\n",
       "        vertical-align: top;\n",
       "    }\n",
       "\n",
       "    .dataframe thead th {\n",
       "        text-align: right;\n",
       "    }\n",
       "</style>\n",
       "<table border=\"1\" class=\"dataframe\">\n",
       "  <thead>\n",
       "    <tr style=\"text-align: right;\">\n",
       "      <th></th>\n",
       "      <th>NAMA</th>\n",
       "      <th>TGL_LAHIR</th>\n",
       "      <th>COUNT</th>\n",
       "    </tr>\n",
       "  </thead>\n",
       "  <tbody>\n",
       "    <tr>\n",
       "      <th>14</th>\n",
       "      <td>PUJI RAHAYU</td>\n",
       "      <td>1993-08-02 00:00:00</td>\n",
       "      <td>60</td>\n",
       "    </tr>\n",
       "    <tr>\n",
       "      <th>17</th>\n",
       "      <td>MINTARJA</td>\n",
       "      <td>1976-05-10 00:00:00</td>\n",
       "      <td>53</td>\n",
       "    </tr>\n",
       "    <tr>\n",
       "      <th>31</th>\n",
       "      <td>BULOG</td>\n",
       "      <td>2003-12-11 00:00:00</td>\n",
       "      <td>38</td>\n",
       "    </tr>\n",
       "    <tr>\n",
       "      <th>36</th>\n",
       "      <td>SITI NURFARIDAH</td>\n",
       "      <td>1976-03-26 00:00:00</td>\n",
       "      <td>32</td>\n",
       "    </tr>\n",
       "    <tr>\n",
       "      <th>43</th>\n",
       "      <td>REGA MAULANA FIRDAUS</td>\n",
       "      <td>1995-06-26 00:00:00</td>\n",
       "      <td>28</td>\n",
       "    </tr>\n",
       "    <tr>\n",
       "      <th>...</th>\n",
       "      <td>...</td>\n",
       "      <td>...</td>\n",
       "      <td>...</td>\n",
       "    </tr>\n",
       "    <tr>\n",
       "      <th>633251</th>\n",
       "      <td>HAIKAL ALTAF FIRDAUS</td>\n",
       "      <td>2002-09-18 00:00:00</td>\n",
       "      <td>1</td>\n",
       "    </tr>\n",
       "    <tr>\n",
       "      <th>633252</th>\n",
       "      <td>HAIKAL ANNISA, ,S.SI</td>\n",
       "      <td>1994-12-24 00:00:00</td>\n",
       "      <td>1</td>\n",
       "    </tr>\n",
       "    <tr>\n",
       "      <th>633253</th>\n",
       "      <td>HAIKAL ATTAR SETIAJI</td>\n",
       "      <td>2003-02-07 00:00:00</td>\n",
       "      <td>1</td>\n",
       "    </tr>\n",
       "    <tr>\n",
       "      <th>633254</th>\n",
       "      <td>HAIKAL AZHAR</td>\n",
       "      <td>2002-05-14 00:00:00</td>\n",
       "      <td>1</td>\n",
       "    </tr>\n",
       "    <tr>\n",
       "      <th>633255</th>\n",
       "      <td>ZYALFA EGA PUTRI GUNAWAN</td>\n",
       "      <td>1997-06-08 00:00:00</td>\n",
       "      <td>1</td>\n",
       "    </tr>\n",
       "  </tbody>\n",
       "</table>\n",
       "<p>435075 rows × 3 columns</p>\n",
       "</div>"
      ],
      "text/plain": [
       "                              NAMA            TGL_LAHIR  COUNT\n",
       "14                     PUJI RAHAYU  1993-08-02 00:00:00     60\n",
       "17                       MINTARJA   1976-05-10 00:00:00     53\n",
       "31                          BULOG   2003-12-11 00:00:00     38\n",
       "36                SITI NURFARIDAH   1976-03-26 00:00:00     32\n",
       "43            REGA MAULANA FIRDAUS  1995-06-26 00:00:00     28\n",
       "...                            ...                  ...    ...\n",
       "633251        HAIKAL ALTAF FIRDAUS  2002-09-18 00:00:00      1\n",
       "633252        HAIKAL ANNISA, ,S.SI  1994-12-24 00:00:00      1\n",
       "633253        HAIKAL ATTAR SETIAJI  2003-02-07 00:00:00      1\n",
       "633254                HAIKAL AZHAR  2002-05-14 00:00:00      1\n",
       "633255  ZYALFA EGA PUTRI GUNAWAN    1997-06-08 00:00:00      1\n",
       "\n",
       "[435075 rows x 3 columns]"
      ]
     },
     "execution_count": 56,
     "metadata": {},
     "output_type": "execute_result"
    }
   ],
   "source": [
    "clean_buy_2021 = clean_buy_2021[clean_buy_2021[\"NAMA\"].str.contains(\"PT\") == False]\n",
    "clean_buy_2021 = clean_buy_2021[clean_buy_2021[\"NAMA\"].str.contains(\"CV\") == False]\n",
    "clean_buy_2021 = clean_buy_2021[clean_buy_2021[\"NAMA\"].str.contains(\"PEMERINTAH\") == False]\n",
    "clean_buy_2021 = clean_buy_2021[clean_buy_2021[\"NAMA\"].str.contains(\"KOPERASI\") == False]\n",
    "clean_buy_2021 = clean_buy_2021[clean_buy_2021[\"NAMA\"].str.contains(\"DINAS\") == False]\n",
    "clean_buy_2021 = clean_buy_2021[clean_buy_2021[\"NAMA\"].str.contains(\"PD\") == False]\n",
    "clean_buy_2021 = clean_buy_2021[clean_buy_2021[\"NAMA\"].str.contains(\"YAYASAN\") == False]\n",
    "clean_buy_2021 = clean_buy_2021[clean_buy_2021[\"NAMA\"].str.contains(\"UNIVERSITAS\") == False]\n",
    "clean_buy_2021 = clean_buy_2021[clean_buy_2021[\"NAMA\"].str.contains(\"INSTITUT\") == False]\n",
    "clean_buy_2021 = clean_buy_2021[clean_buy_2021[\"NAMA\"].str.contains(\"KOP\") == False]\n",
    "clean_buy_2021 = clean_buy_2021[clean_buy_2021[\"NAMA\"].str.contains(\"BANK\") == False]\n",
    "clean_buy_2021 = clean_buy_2021[clean_buy_2021[\"NAMA\"].str.contains(\"PERKUMPULAN\") == False]\n",
    "clean_buy_2021 = clean_buy_2021[clean_buy_2021[\"NAMA\"].str.contains(\"CONSORTIUM\") == False]\n",
    "clean_buy_2021 = clean_buy_2021[clean_buy_2021[\"NAMA\"].str.contains(\"BANDUNG\") == False]\n",
    "clean_buy_2021 = clean_buy_2021[clean_buy_2021[\"NAMA\"].str.contains(\"SUMEDANG\") == False]\n",
    "clean_buy_2021 = clean_buy_2021[clean_buy_2021[\"NAMA\"].str.contains(\"BADAN\") == False]\n",
    "clean_buy_2021 = clean_buy_2021[clean_buy_2021[\"NAMA\"].str.contains(\"KSU\") == False]\n",
    "clean_buy_2021 = clean_buy_2021[clean_buy_2021[\"NAMA\"].str.contains(\"FAKULTAS\") == False]\n",
    "clean_buy_2021 = clean_buy_2021[clean_buy_2021[\"NAMA\"].str.contains(\"PUSAT\") == False]\n",
    "clean_buy_2021 = clean_buy_2021[clean_buy_2021[\"NAMA\"].str.contains(\"KSP\") == False]\n",
    "clean_buy_2021 = clean_buy_2021[clean_buy_2021[\"NAMA\"].str.contains(\"PINJAM\") == False]\n",
    "clean_buy_2021 = clean_buy_2021[clean_buy_2021[\"NAMA\"].str.contains(\"GARUT\") == False]\n",
    "clean_buy_2021 = clean_buy_2021[clean_buy_2021[\"NAMA\"].str.contains(\"BOGOR\") == False]\n",
    "clean_buy_2021 = clean_buy_2021[clean_buy_2021[\"NAMA\"].str.contains(\"CIANJUR\") == False]\n",
    "clean_buy_2021 = clean_buy_2021[clean_buy_2021[\"NAMA\"].str.contains(\"SUBANG\") == False]\n",
    "clean_buy_2021 = clean_buy_2021[clean_buy_2021[\"NAMA\"].str.contains(\"KARAWANG\") == False]\n",
    "clean_buy_2021 = clean_buy_2021[clean_buy_2021[\"NAMA\"].str.contains(\"TASIKMALAYA\") == False]\n",
    "clean_buy_2021 = clean_buy_2021[clean_buy_2021[\"NAMA\"].str.contains(\"INDRAMAYU\") == False]\n",
    "clean_buy_2021 = clean_buy_2021[clean_buy_2021[\"NAMA\"].str.contains(\"KANTOR\") == False]\n",
    "clean_buy_2021"
   ]
  },
  {
   "cell_type": "code",
   "execution_count": 57,
   "id": "751cf977",
   "metadata": {},
   "outputs": [],
   "source": [
    "clean_buy_2021.to_excel(\"clean_buy_2021.xlsx\")"
   ]
  },
  {
   "cell_type": "code",
   "execution_count": null,
   "id": "ce9426d6",
   "metadata": {},
   "outputs": [],
   "source": []
  }
 ],
 "metadata": {
  "kernelspec": {
   "display_name": "Python 3",
   "language": "python",
   "name": "python3"
  },
  "language_info": {
   "codemirror_mode": {
    "name": "ipython",
    "version": 3
   },
   "file_extension": ".py",
   "mimetype": "text/x-python",
   "name": "python",
   "nbconvert_exporter": "python",
   "pygments_lexer": "ipython3",
   "version": "3.8.8"
  }
 },
 "nbformat": 4,
 "nbformat_minor": 5
}
